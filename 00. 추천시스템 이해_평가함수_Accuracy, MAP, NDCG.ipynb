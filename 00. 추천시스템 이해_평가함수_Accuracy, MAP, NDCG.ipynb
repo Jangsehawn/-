{
 "cells": [
  {
   "cell_type": "markdown",
   "metadata": {},
   "source": [
    "<추천시스템 5강>\n",
    "\n",
    "평가함수를 다양하게 알아야함\n",
    "\n",
    "1. 내가 추천해준 영화를 고객이 봤나?\n",
    "2. 내가 추천해준 영화를 고객이 높은 점수로 평점을 줬나?\n",
    "\n",
    "-> 하나의 평가함수만 쓰면 놓치는 부분이 있음 \n",
    "\n",
    "[평가함수]\n",
    "\n",
    "1. accuracy \n",
    "\n",
    "2. map \n",
    "\n",
    "ap : 추천한 k개 영화의 precision을 평균\n",
    "\n",
    "map : 4명의 사용자의 ap를 평균낸 값 \n",
    "\n",
    "-> 추천순서에 따라 값이 차이가남 -> 상위 k개의 추천만 평가하기에 k를 바꿔가면서 몇개를 추천하는게 좋을지 결정할 수도 있음\n",
    "\n",
    "3. ndcg\n",
    "\n",
    "검색 알고리즘에서 성과를 측정하는 메트릭\n",
    "\n",
    "cg(cumulative gain) :  [i=1~n]sigma(relevance(i)) -> 단순합이므로 추천의 순서를 반영해주지 못함! -> dcg로 위치를 반영\n",
    "\n",
    "relevance scores : calculated based on the positive and nehative feedback we expect an add to recieve from its target audience\n",
    " \n",
    "dcg=  [i=1~n]sigma(relevance(i)/ log(i+1) ) -> 먼저 추천해준것에 가중치! but 추천수에 따라 영향을 받음\n",
    "\n",
    "ndcg = dcg/ idcg -> 추천수를 반영 해주기위해 정규화!\n",
    "\n",
    "idcg -> ideal order의 dcg   ex) [3,3,2,2,1] -> 3/log(1+1) + 3/log(2+1) ...~7.14\n",
    "\n",
    "ex) [2,3,3,1,2]의dcg ~6.64,  ndcg = 6.64/7.14 ~ 0.93 "
   ]
  }
 ],
 "metadata": {
  "kernelspec": {
   "display_name": "Python 3",
   "language": "python",
   "name": "python3"
  },
  "language_info": {
   "codemirror_mode": {
    "name": "ipython",
    "version": 3
   },
   "file_extension": ".py",
   "mimetype": "text/x-python",
   "name": "python",
   "nbconvert_exporter": "python",
   "pygments_lexer": "ipython3",
   "version": "3.8.5"
  }
 },
 "nbformat": 4,
 "nbformat_minor": 4
}
